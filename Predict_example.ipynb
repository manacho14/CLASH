{
 "cells": [
  {
   "cell_type": "code",
   "execution_count": 13,
   "metadata": {},
   "outputs": [],
   "source": [
    "import glob\n",
    "import keras\n",
    "import zipfile\n",
    "from keras import optimizers\n",
    "from model import inceptionv2\n",
    "import matplotlib.pyplot as plt\n",
    "from preprocess import Preprocess\n",
    "from train import root_mean_squared_error"
   ]
  },
  {
   "cell_type": "code",
   "execution_count": 14,
   "metadata": {},
   "outputs": [],
   "source": [
    "# Decompress CLASH model\n",
    "\n",
    "zipfilePath = (\"./best_model_CLASH.zip\")\n",
    "zip = zipfile.ZipFile(zipfilePath)\n",
    "zip.extractall(\".\")\n",
    "zip.close()"
   ]
  },
  {
   "cell_type": "code",
   "execution_count": 15,
   "metadata": {},
   "outputs": [],
   "source": [
    "# Compile the network \n",
    "\n",
    "model = inceptionv2()\n",
    "model.load_weights(\"best_model_CLASH.hdf5\")\n",
    "model.compile(loss = root_mean_squared_error,\n",
    "                          optimizer=keras.optimizers.Adam(lr=5e-5))"
   ]
  },
  {
   "cell_type": "code",
   "execution_count": 16,
   "metadata": {},
   "outputs": [],
   "source": [
    "# Load galaxies to predict\n",
    "\n",
    "path = 'galaxies_to_predict/'\n",
    "galaxies = glob.glob(path + '*.fits')\n",
    "galaxies = [x.split(path)[1].split('.fits')[0] for x in galaxies]\n",
    "\n",
    "prep = Preprocess(galaxies, path)\n",
    "X = prep.get_images()\n",
    "    "
   ]
  },
  {
   "cell_type": "code",
   "execution_count": 53,
   "metadata": {},
   "outputs": [
    {
     "name": "stdout",
     "output_type": "stream",
     "text": [
      "Probabilities => Spheroid: 0.5755, Disk: 0.2351, Irregular: 0.0538, Point Source: 0.0821, Unclassifiable: 0.0536\n"
     ]
    },
    {
     "data": {
      "image/png": "[encoded data removed]",
      "text/plain": [
       "<Figure size 432x288 with 1 Axes>"
      ]
     },
     "metadata": {},
     "output_type": "display_data"
    }
   ],
   "source": [
    "# Predict\n",
    "\n",
    "probs = model.predict(X)\n",
    "\n",
    "plt.imshow(X[0].reshape(80,80), cmap = 'gray')\n",
    "print('Probabilities => Spheroid: {0:.4f}, Disk: {1:.4f}, Irregular: {2:.4f}, Point Source: {3:.4f}, '\n",
    "      'Unclassifiable: {4:.4f}'.format(probs[0][0], probs[0][1], probs[0][2], probs[0][3], probs[0][4]))\n"
   ]
  },
  {
   "cell_type": "code",
   "execution_count": null,
   "metadata": {},
   "outputs": [],
   "source": []
  }
 ],
 "metadata": {
  "kernelspec": {
   "display_name": "Python 3",
   "language": "python",
   "name": "python3"
  },
  "language_info": {
   "codemirror_mode": {
    "name": "ipython",
    "version": 3
   },
   "file_extension": ".py",
   "mimetype": "text/x-python",
   "name": "python",
   "nbconvert_exporter": "python",
   "pygments_lexer": "ipython3",
   "version": "3.6.0"
  }
 },
 "nbformat": 4,
 "nbformat_minor": 2
}
